{
 "cells": [
  {
   "cell_type": "code",
   "execution_count": 219,
   "metadata": {},
   "outputs": [],
   "source": [
    "#Load a data set \n",
    "import sklearn\n",
    "from sklearn import datasets\n",
    "import pandas as pd\n",
    "import numpy as np\n",
    "import warnings\n",
    "import matplotlib as mpl \n",
    "import matplotlib.pyplot as plt\n",
    "import seaborn as sns\n",
    "warnings.simplefilter(action='ignore', category=FutureWarning)\n",
    "warnings.simplefilter(action='ignore', category=DeprecationWarning)"
   ]
  },
  {
   "cell_type": "code",
   "execution_count": 220,
   "metadata": {},
   "outputs": [],
   "source": [
    "import numpy as np\n",
    "import pandas as pd\n",
    "import matplotlib as mpl \n",
    "import matplotlib.pyplot as plt\n",
    "import seaborn as sns\n",
    "df = sns.load_dataset('titanic')\n"
   ]
  },
  {
   "cell_type": "code",
   "execution_count": 221,
   "metadata": {},
   "outputs": [
    {
     "data": {
      "text/plain": [
       "891"
      ]
     },
     "execution_count": 221,
     "metadata": {},
     "output_type": "execute_result"
    }
   ],
   "source": [
    "df.head(20)\n",
    "df.tail(10)\n",
    "len(df)"
   ]
  },
  {
   "cell_type": "code",
   "execution_count": 222,
   "metadata": {},
   "outputs": [
    {
     "name": "stdout",
     "output_type": "stream",
     "text": [
      "<class 'pandas.core.frame.DataFrame'>\n",
      "RangeIndex: 891 entries, 0 to 890\n",
      "Data columns (total 31 columns):\n",
      " #   Column                   Non-Null Count  Dtype  \n",
      "---  ------                   --------------  -----  \n",
      " 0   survived                 891 non-null    int64  \n",
      " 1   pclass                   891 non-null    int64  \n",
      " 2   age                      714 non-null    float64\n",
      " 3   sibsp                    891 non-null    int64  \n",
      " 4   parch                    891 non-null    int64  \n",
      " 5   fare                     891 non-null    float64\n",
      " 6   adult_male               891 non-null    bool   \n",
      " 7   alone                    891 non-null    bool   \n",
      " 8   sex_female               891 non-null    uint8  \n",
      " 9   sex_male                 891 non-null    uint8  \n",
      " 10  embarked_C               891 non-null    uint8  \n",
      " 11  embarked_Q               891 non-null    uint8  \n",
      " 12  embarked_S               891 non-null    uint8  \n",
      " 13  class_First              891 non-null    uint8  \n",
      " 14  class_Second             891 non-null    uint8  \n",
      " 15  class_Third              891 non-null    uint8  \n",
      " 16  who_child                891 non-null    uint8  \n",
      " 17  who_man                  891 non-null    uint8  \n",
      " 18  who_woman                891 non-null    uint8  \n",
      " 19  deck_A                   891 non-null    uint8  \n",
      " 20  deck_B                   891 non-null    uint8  \n",
      " 21  deck_C                   891 non-null    uint8  \n",
      " 22  deck_D                   891 non-null    uint8  \n",
      " 23  deck_E                   891 non-null    uint8  \n",
      " 24  deck_F                   891 non-null    uint8  \n",
      " 25  deck_G                   891 non-null    uint8  \n",
      " 26  embark_town_Cherbourg    891 non-null    uint8  \n",
      " 27  embark_town_Queenstown   891 non-null    uint8  \n",
      " 28  embark_town_Southampton  891 non-null    uint8  \n",
      " 29  alive_no                 891 non-null    uint8  \n",
      " 30  alive_yes                891 non-null    uint8  \n",
      "dtypes: bool(2), float64(2), int64(4), uint8(23)\n",
      "memory usage: 63.6 KB\n"
     ]
    }
   ],
   "source": [
    "df = sns.load_dataset('titanic')\n",
    "# Dataframe is created by the selected features\n",
    "#df = df[['pclass','sex','age','fare','embark_town','survived']]\n",
    "# vectorize the categorical variables\n",
    "df = pd.get_dummies(df)\n",
    "df\n",
    "df.info()"
   ]
  },
  {
   "cell_type": "code",
   "execution_count": 223,
   "metadata": {},
   "outputs": [
    {
     "name": "stdout",
     "output_type": "stream",
     "text": [
      "survived                   int64\n",
      "pclass                     int64\n",
      "age                        int64\n",
      "sibsp                      int64\n",
      "parch                      int64\n",
      "fare                       int64\n",
      "adult_male                  bool\n",
      "alone                       bool\n",
      "sex_female                 uint8\n",
      "sex_male                   uint8\n",
      "embarked_C                 uint8\n",
      "embarked_Q                 uint8\n",
      "embarked_S                 uint8\n",
      "class_First                uint8\n",
      "class_Second               uint8\n",
      "class_Third                uint8\n",
      "who_child                  uint8\n",
      "who_man                    uint8\n",
      "who_woman                  uint8\n",
      "deck_A                     uint8\n",
      "deck_B                     uint8\n",
      "deck_C                     uint8\n",
      "deck_D                     uint8\n",
      "deck_E                     uint8\n",
      "deck_F                     uint8\n",
      "deck_G                     uint8\n",
      "embark_town_Cherbourg      uint8\n",
      "embark_town_Queenstown     uint8\n",
      "embark_town_Southampton    uint8\n",
      "alive_no                   uint8\n",
      "alive_yes                  uint8\n",
      "dtype: object\n"
     ]
    }
   ],
   "source": [
    "#change the column type with the astype method. \n",
    "#Let’s apply this method to the fare(float) and age(float) features to convert it into int64:\n",
    "df['fare'] = df['fare'].astype('int64')\n",
    "df['age']=df['fare'].astype('int64')\n",
    "print(df.dtypes)"
   ]
  },
  {
   "cell_type": "code",
   "execution_count": 224,
   "metadata": {},
   "outputs": [],
   "source": [
    "# split dataset into inputs and outputs-(dataset.values is an array)\n",
    "values = df.values\n",
    "x = values[:,0:8]\n",
    "y = values[:,8]\n",
    "#print(x)\n",
    "#print(y)\n",
    "y = y.astype ('int')"
   ]
  },
  {
   "cell_type": "code",
   "execution_count": 225,
   "metadata": {},
   "outputs": [
    {
     "data": {
      "text/plain": [
       "668"
      ]
     },
     "execution_count": 225,
     "metadata": {},
     "output_type": "execute_result"
    }
   ],
   "source": [
    "#SPLIT DATA INTO TRAIN AND TEST\n",
    "from sklearn.model_selection import train_test_split\n",
    "from sklearn.model_selection import train_test_split\n",
    "from sklearn.metrics import accuracy_score\n",
    "#x, y = make_classification(random_state=0)\n",
    "x_train,x_test,y_train,y_test = train_test_split(x,y,random_state=0)\n",
    "len(x_train)"
   ]
  },
  {
   "cell_type": "code",
   "execution_count": 226,
   "metadata": {},
   "outputs": [
    {
     "name": "stdout",
     "output_type": "stream",
     "text": [
      "0.9596412556053812\n"
     ]
    }
   ],
   "source": [
    "#Set up ML pipeline\n",
    "#impute missing values\n",
    "#standardise data\n",
    "#use single value of knn\n",
    "# Now since everything is numerical,we can use the numerical imputing methods to fill in the mean for missing values\n",
    "\n",
    "from sklearn.pipeline import make_pipeline, Pipeline, FeatureUnion\n",
    "from sklearn.impute import SimpleImputer\n",
    "from sklearn.preprocessing import StandardScaler\n",
    "from sklearn.neighbors import KNeighborsClassifier\n",
    "\n",
    "knn=KNeighborsClassifier(n_neighbors=5)\n",
    "model = Pipeline([('Imputation',SimpleImputer(strategy='mean')),('scaler', StandardScaler()),('knn', knn)])\n",
    "model.fit(x_train,y_train)\n",
    "#model.score(x_train,y_train)\n",
    "from sklearn.metrics import accuracy_score\n",
    "y_model = model.predict(x_test)\n",
    "print(accuracy_score(y_test, y_model))"
   ]
  },
  {
   "cell_type": "code",
   "execution_count": 227,
   "metadata": {},
   "outputs": [
    {
     "name": "stdout",
     "output_type": "stream",
     "text": [
      "[0.9505988023952096, 0.9251497005988024, 0.6541916167664671]\n"
     ]
    }
   ],
   "source": [
    "#Testing k on 3 values-small value of k, a medium value, and a large value \n",
    "#kvalues to be tested=[10,150,600]\n",
    "n_neighbours = [10,150,600]\n",
    "scores={}\n",
    "scores_list=[]\n",
    "for k in n_neighbours:\n",
    "    #print(k)\n",
    "    knn = KNeighborsClassifier(k)\n",
    "    model = Pipeline([('Imputation',SimpleImputer(strategy='mean')),('scaler', StandardScaler()),('knn', knn)])\n",
    "    model.fit(x_train,y_train)\n",
    "    model.fit(x_train,y_train)\n",
    "    scores[k]=model.score(x_train,y_train)\n",
    "    scores_list.append(scores[k])\n",
    "print (scores_list) "
   ]
  },
  {
   "cell_type": "code",
   "execution_count": 228,
   "metadata": {},
   "outputs": [
    {
     "data": {
      "text/plain": [
       "' The best value of k in this data set is when k=10.\\nThe process of choosing the right value of K is referred to as parameter tuning and is of great significance in achieving \\nbetter accuracy.If the value of K is too small then there is a probability of overfitting the model and if it is too large then the \\nalgorithm becomes computationally expensive.'"
      ]
     },
     "execution_count": 228,
     "metadata": {},
     "output_type": "execute_result"
    }
   ],
   "source": [
    "#Which of these three k values worked the best?  \n",
    "#Based on your knowledge of the data (either through background intuition,or exploratory data analysis,\n",
    "#or any other insight you have) try to explain why you think that choice of k was better than the others (you don't need a detailed explanation, just give it some thought and try to explain your idea here).\n",
    "''' The best value of k in this data set is when k=10.\n",
    "The process of choosing the right value of K is referred to as parameter tuning and is of great significance in achieving \n",
    "better accuracy.If the value of K is too small then there is a probability of overfitting the model and if it is too large then the \n",
    "algorithm becomes computationally expensive.'''"
   ]
  },
  {
   "cell_type": "code",
   "execution_count": 229,
   "metadata": {},
   "outputs": [
    {
     "name": "stdout",
     "output_type": "stream",
     "text": [
      "Minimum error:- 0.14798206278026907 at K = 0\n"
     ]
    },
    {
     "data": {
      "image/png": "[encoded data removed]",
      "text/plain": [
       "<Figure size 720x360 with 1 Axes>"
      ]
     },
     "metadata": {
      "needs_background": "light"
     },
     "output_type": "display_data"
    }
   ],
   "source": [
    "#This graph is just to check the accuracy ...\n",
    "\n",
    "\n",
    "import matplotlib.pyplot as plt\n",
    "from matplotlib.ticker import NullFormatter\n",
    "error_rate = []\n",
    "for i in range(1,660):\n",
    " knn = KNeighborsClassifier(n_neighbors=i)\n",
    " knn.fit(x_train,y_train)\n",
    " pred_i = knn.predict(x_test)\n",
    " error_rate.append(np.mean(pred_i != y_test))\n",
    "\n",
    "plt.figure(figsize=(10,5))\n",
    "plt.plot(range(1,660),error_rate,color='blue', linestyle='dashed', \n",
    "         marker='o',markerfacecolor='red', markersize=10)\n",
    "plt.title('Error Rate vs. K Value')\n",
    "plt.xlabel('K')\n",
    "plt.ylabel('Error Rate')\n",
    "print(\"Minimum error:-\",min(error_rate),\"at K =\",error_rate.index(min(error_rate)))"
   ]
  },
  {
   "cell_type": "code",
   "execution_count": 231,
   "metadata": {},
   "outputs": [
    {
     "name": "stdout",
     "output_type": "stream",
     "text": [
      "Maximum accuracy:- 0.852017937219731 at K = 0\n"
     ]
    },
    {
     "data": {
      "image/png": "[encoded data removed]",
      "text/plain": [
       "<Figure size 720x360 with 1 Axes>"
      ]
     },
     "metadata": {
      "needs_background": "light"
     },
     "output_type": "display_data"
    }
   ],
   "source": [
    "acc = []\n",
    "# Will take some time\n",
    "from sklearn import metrics\n",
    "for i in range(1,660):\n",
    "    neigh = KNeighborsClassifier(n_neighbors = i).fit(x_train,y_train)\n",
    "    yhat = neigh.predict(x_test)\n",
    "    acc.append(metrics.accuracy_score(y_test, yhat))\n",
    "    \n",
    "plt.figure(figsize=(10,5))\n",
    "plt.plot(range(1,660),acc,color = 'blue',linestyle='dashed', \n",
    "         marker='o',markerfacecolor='red', markersize=10)\n",
    "plt.title('accuracy vs. K Value')\n",
    "plt.xlabel('K')\n",
    "plt.ylabel('Accuracy')\n",
    "print(\"Maximum accuracy:-\",max(acc),\"at K =\",acc.index(max(acc)))"
   ]
  },
  {
   "cell_type": "code",
   "execution_count": null,
   "metadata": {},
   "outputs": [],
   "source": []
  }
 ],
 "metadata": {
  "kernelspec": {
   "display_name": "Python 3",
   "language": "python",
   "name": "python3"
  },
  "language_info": {
   "codemirror_mode": {
    "name": "ipython",
    "version": 3
   },
   "file_extension": ".py",
   "mimetype": "text/x-python",
   "name": "python",
   "nbconvert_exporter": "python",
   "pygments_lexer": "ipython3",
   "version": "3.8.3"
  }
 },
 "nbformat": 4,
 "nbformat_minor": 4
}
